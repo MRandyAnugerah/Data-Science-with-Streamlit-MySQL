{
 "cells": [
  {
   "cell_type": "markdown",
   "metadata": {
    "id": "0cIyjOhu93rn"
   },
   "source": [
    "# Quiz\n"
   ]
  },
  {
   "cell_type": "markdown",
   "metadata": {
    "id": "95TSfwpU93sF"
   },
   "source": [
    "1. Buatlah kode program sederhana Kalkulator dengan menerapkan Class dan konsep OOP.\n",
    "2. Buatlah kode program dengan class Kendaraan. Dimana nanti kalian akan membuat class turunan dari Kendaraan seperti Mobil, Sepeda Motor, dsb dan class tersebut menggunakan Inheritance class Kendaraan. (Opsional: Tambahkan method lain pada class turunannya)\n",
    "\n",
    "**KREASIKAN SESUKA KALIAN, TIDAK ADA JAWABAN YANG SALAH**\n",
    "\n",
    "*tentu saja kalo error jawaban kalian pasti salah* 🏃"
   ]
  },
  {
   "cell_type": "markdown",
   "metadata": {
    "id": "bG3nHCi593sI"
   },
   "source": [
    "Kunci Jawaban untuk Panitia"
   ]
  },
  {
   "cell_type": "markdown",
   "metadata": {
    "id": "ttq0t2yO93sI"
   },
   "source": [
    "# 1 "
   ]
  },
  {
   "cell_type": "code",
   "execution_count": 14,
   "metadata": {
    "ExecuteTime": {
     "end_time": "2020-12-24T13:57:24.983022Z",
     "start_time": "2020-12-24T13:57:24.977869Z"
    },
    "id": "NeRep1Y493sJ"
   },
   "outputs": [
    {
     "name": "stdout",
     "output_type": "stream",
     "text": [
      "masukkan nilai pertama:2\n",
      "masukkan nilai kedua:3\n",
      "Hasil dari pertambahan itu adalah: 15\n",
      "Hasil dari pengurangan itu adalah: 5\n",
      "Hasil dari perkalian itu adalah: 50\n",
      "Hasil dari pembagian itu adalah: 2.0\n"
     ]
    }
   ],
   "source": [
    "class calculator:\n",
    "    def __init__ (self,a,b):\n",
    "        self.a = a\n",
    "        self.b = b\n",
    "    \n",
    "    def tambah(self):\n",
    "        return self.a + self.b\n",
    "    \n",
    "    def kurang(self):\n",
    "        return self.a - self.b\n",
    "    \n",
    "    def kali(self):\n",
    "        return self.a * self.b\n",
    "    \n",
    "    def bagi(self):\n",
    "        return self.a // self.b\n",
    "    \n",
    "nilai1 = input(\"masukkan nilai pertama:\")\n",
    "nilai2 = input(\"masukkan nilai kedua:\")\n",
    "inputan = calculator(nilai1,nilai2)\n",
    "\n",
    "print(\"Hasil dari pertambahan itu adalah:\",kal.tambah())\n",
    "print(\"Hasil dari pengurangan itu adalah:\",kal.kurang())\n",
    "print(\"Hasil dari perkalian itu adalah:\",kal.kali())\n",
    "print(\"Hasil dari pembagian itu adalah:\",kal.bagi())"
   ]
  },
  {
   "cell_type": "markdown",
   "metadata": {
    "id": "23H2HM3I93sM"
   },
   "source": [
    "# 2 "
   ]
  },
  {
   "cell_type": "code",
   "execution_count": 34,
   "metadata": {},
   "outputs": [
    {
     "name": "stdout",
     "output_type": "stream",
     "text": [
      "Mobil brand Honda Jazz memiliki warna Abu-abu. Mobil itu menggunakan gas dan memiliki 4 roda.\n",
      "Brand truk itu Ford F350 berwarna kuning. Truk itu menggunakan diesel dan memiliki 6 roda.\n",
      "brand sepeda motor itu Viar Q1 berwarna putih. Sepeda motor itu menggunakan listrik dan memiliki 2 roda.\n"
     ]
    }
   ],
   "source": [
    "#INHERITACE\n",
    "\n",
    "class Kendaraan:\n",
    "\n",
    "    def __init__(self, brand, model, warna, bahan_bakar=\"gas\"):\n",
    "        self.brand = brand\n",
    "        self.model = model\n",
    "        self.warna = warna\n",
    "        self.bahan_bakar = bahan_bakar\n",
    "\n",
    "class Mobil(Kendaraan):\n",
    "\n",
    "    banyak_roda = 4\n",
    "    \n",
    "class SepedaMotor(Kendaraan):\n",
    "\n",
    "    banyak_roda = 2\n",
    "    \n",
    "    def __init__(self, brand, model, warna, bahan_bakar=\"listrik\"):\n",
    "        super().__init__(brand, model, warna, bahan_bakar)\n",
    "\n",
    "class Truk(Kendaraan):\n",
    "\n",
    "    banyak_roda = 6\n",
    "\n",
    "    def __init__(self, brand, model, warna, bahan_bakar=\"diesel\"):\n",
    "        super().__init__(brand, model, warna, bahan_bakar)\n",
    "        \n",
    "#PRINT HERE !\n",
    "\n",
    "daily_driver = Mobil(\"Honda\", \"Jazz\", \"Abu-abu\")\n",
    "print(f\"Mobil brand {daily_driver.brand} {daily_driver.model} memiliki warna {daily_driver.warna}. \"\n",
    "      f\"Mobil itu menggunakan {daily_driver.bahan_bakar} dan memiliki {daily_driver.banyak_roda} roda.\")\n",
    "\n",
    "truck = Truk(\"Ford\", \"F350\", \"kuning\")\n",
    "print(f\"Brand truk itu {truck.brand} {truck.model} berwarna {truck.warna}. \"\n",
    "      f\"Truk itu menggunakan {truck.bahan_bakar} dan memiliki {truck.banyak_roda} roda.\")\n",
    "\n",
    "motor = SepedaMotor(\"Viar\", \"Q1\", \"putih\")\n",
    "print(f\"brand sepeda motor itu {motor.brand} {motor.model} berwarna {motor.warna}. \"\n",
    "      f\"Sepeda motor itu menggunakan {motor.bahan_bakar} dan memiliki {motor.banyak_roda} roda.\")"
   ]
  }
 ],
 "metadata": {
  "colab": {
   "name": "Quiz OOP.ipynb",
   "provenance": []
  },
  "kernelspec": {
   "display_name": "Python 3",
   "language": "python",
   "name": "python3"
  },
  "language_info": {
   "codemirror_mode": {
    "name": "ipython",
    "version": 3
   },
   "file_extension": ".py",
   "mimetype": "text/x-python",
   "name": "python",
   "nbconvert_exporter": "python",
   "pygments_lexer": "ipython3",
   "version": "3.8.3"
  }
 },
 "nbformat": 4,
 "nbformat_minor": 1
}
